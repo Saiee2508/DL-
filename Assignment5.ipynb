{
  "nbformat": 4,
  "nbformat_minor": 0,
  "metadata": {
    "colab": {
      "provenance": [],
      "authorship_tag": "ABX9TyOr43bmxUioc8aIpd1Ma3fi",
      "include_colab_link": true
    },
    "kernelspec": {
      "name": "python3",
      "display_name": "Python 3"
    },
    "language_info": {
      "name": "python"
    }
  },
  "cells": [
    {
      "cell_type": "markdown",
      "metadata": {
        "id": "view-in-github",
        "colab_type": "text"
      },
      "source": [
        "<a href=\"https://colab.research.google.com/github/Saiee2508/DL-/blob/main/Assignment5.ipynb\" target=\"_parent\"><img src=\"https://colab.research.google.com/assets/colab-badge.svg\" alt=\"Open In Colab\"/></a>"
      ]
    },
    {
      "cell_type": "code",
      "execution_count": 1,
      "metadata": {
        "colab": {
          "base_uri": "https://localhost:8080/"
        },
        "id": "G4MnamDYI5C7",
        "outputId": "64d1a6bf-6f15-4b7f-af0d-2444074a5cbb"
      },
      "outputs": [
        {
          "output_type": "stream",
          "name": "stdout",
          "text": [
            "Reading package lists... Done\n",
            "Building dependency tree... Done\n",
            "Reading state information... Done\n",
            "The following additional packages will be installed:\n",
            "  tesseract-ocr-eng tesseract-ocr-osd\n",
            "The following NEW packages will be installed:\n",
            "  tesseract-ocr tesseract-ocr-eng tesseract-ocr-osd\n",
            "0 upgraded, 3 newly installed, 0 to remove and 49 not upgraded.\n",
            "Need to get 4,816 kB of archives.\n",
            "After this operation, 15.6 MB of additional disk space will be used.\n",
            "Get:1 http://archive.ubuntu.com/ubuntu jammy/universe amd64 tesseract-ocr-eng all 1:4.00~git30-7274cfa-1.1 [1,591 kB]\n",
            "Get:2 http://archive.ubuntu.com/ubuntu jammy/universe amd64 tesseract-ocr-osd all 1:4.00~git30-7274cfa-1.1 [2,990 kB]\n",
            "Get:3 http://archive.ubuntu.com/ubuntu jammy/universe amd64 tesseract-ocr amd64 4.1.1-2.1build1 [236 kB]\n",
            "Fetched 4,816 kB in 1s (6,323 kB/s)\n",
            "Selecting previously unselected package tesseract-ocr-eng.\n",
            "(Reading database ... 123629 files and directories currently installed.)\n",
            "Preparing to unpack .../tesseract-ocr-eng_1%3a4.00~git30-7274cfa-1.1_all.deb ...\n",
            "Unpacking tesseract-ocr-eng (1:4.00~git30-7274cfa-1.1) ...\n",
            "Selecting previously unselected package tesseract-ocr-osd.\n",
            "Preparing to unpack .../tesseract-ocr-osd_1%3a4.00~git30-7274cfa-1.1_all.deb ...\n",
            "Unpacking tesseract-ocr-osd (1:4.00~git30-7274cfa-1.1) ...\n",
            "Selecting previously unselected package tesseract-ocr.\n",
            "Preparing to unpack .../tesseract-ocr_4.1.1-2.1build1_amd64.deb ...\n",
            "Unpacking tesseract-ocr (4.1.1-2.1build1) ...\n",
            "Setting up tesseract-ocr-eng (1:4.00~git30-7274cfa-1.1) ...\n",
            "Setting up tesseract-ocr-osd (1:4.00~git30-7274cfa-1.1) ...\n",
            "Setting up tesseract-ocr (4.1.1-2.1build1) ...\n",
            "Processing triggers for man-db (2.10.2-1) ...\n",
            "Collecting pytesseract\n",
            "  Downloading pytesseract-0.3.13-py3-none-any.whl.metadata (11 kB)\n",
            "Requirement already satisfied: packaging>=21.3 in /usr/local/lib/python3.10/dist-packages (from pytesseract) (24.1)\n",
            "Requirement already satisfied: Pillow>=8.0.0 in /usr/local/lib/python3.10/dist-packages (from pytesseract) (10.4.0)\n",
            "Downloading pytesseract-0.3.13-py3-none-any.whl (14 kB)\n",
            "Installing collected packages: pytesseract\n",
            "Successfully installed pytesseract-0.3.13\n"
          ]
        }
      ],
      "source": [
        "!apt-get install -y tesseract-ocr  # Install Tesseract OCR engine\n",
        "!pip install pytesseract  # Install pytesseract (Python wrapper for Tesseract)"
      ]
    },
    {
      "cell_type": "code",
      "source": [
        "import cv2          # For image processing\n",
        "import numpy as np   # Used for numerical operations on image arrays\n",
        "import pytesseract   # For Optical Character Recognition (OCR)\n",
        "from google.colab.patches import cv2_imshow  # To display images in Colab\n",
        "from google.colab import files  # To handle file uploads in Colab\n",
        "import os           # For file path operations\n",
        "\n",
        "from google.colab import drive\n",
        "drive.mount('/content/drive') # Connect to the Drive"
      ],
      "metadata": {
        "colab": {
          "base_uri": "https://localhost:8080/"
        },
        "id": "dvOC8LgqJCjm",
        "outputId": "8e7d617e-44f2-4efb-89b3-48fd97f07e8f"
      },
      "execution_count": 3,
      "outputs": [
        {
          "output_type": "stream",
          "name": "stdout",
          "text": [
            "Mounted at /content/drive\n"
          ]
        }
      ]
    },
    {
      "cell_type": "code",
      "source": [
        "def preprocess_image(image):\n",
        "    gray = cv2.cvtColor(image, cv2.COLOR_BGR2GRAY)  # Convert to grayscale\n",
        "    denoised = cv2.fastNlMeansDenoising(gray)       # Remove noise\n",
        "    thresh = cv2.threshold(denoised, 0, 255, cv2.THRESH_BINARY + cv2.THRESH_OTSU)[1]  # Binary thresholding\n",
        "    return thresh"
      ],
      "metadata": {
        "id": "wBSH4_nBJPBL"
      },
      "execution_count": 4,
      "outputs": []
    },
    {
      "cell_type": "code",
      "source": [
        "def detect_text_regions(image):\n",
        "    # Detecting words\n",
        "    boxes = pytesseract.image_to_data(image, output_type=pytesseract.Output.DICT)  # Get text region data\n",
        "    return boxes"
      ],
      "metadata": {
        "id": "1ak2NqJxJRYd"
      },
      "execution_count": 5,
      "outputs": []
    },
    {
      "cell_type": "code",
      "source": [
        "def draw_bounding_boxes(image, boxes):\n",
        "    output = image.copy()  # Copy original image to draw boxes\n",
        "    n_boxes = len(boxes['level'])  # Total number of detected text regions\n",
        "    for i in range(n_boxes):\n",
        "        if int(boxes['conf'][i]) > 60:  # Only consider boxes with confidence > 60%\n",
        "            (x, y, w, h) = (boxes['left'][i], boxes['top'][i], boxes['width'][i], boxes['height'][i])  # Box coordinates\n",
        "            cv2.rectangle(output, (x, y), (x + w, y + h), (0, 255, 0), 2)  # Draw rectangle on the image\n",
        "    return output\n"
      ],
      "metadata": {
        "id": "a1irQrTfJT7Z"
      },
      "execution_count": 6,
      "outputs": []
    },
    {
      "cell_type": "code",
      "source": [
        "def get_detected_text(boxes):\n",
        "    detected_text = []\n",
        "    n_boxes = len(boxes['level'])  # Total number of detected boxes\n",
        "    for i in range(n_boxes):\n",
        "        if int(boxes['conf'][i]) > 60:  # Only extract text with confidence > 60%\n",
        "            detected_text.append(boxes['text'][i])  # Append detected text\n",
        "    return ' '.join(detected_text)  # Combine text into a single string\n"
      ],
      "metadata": {
        "id": "NypOkR3EJXXI"
      },
      "execution_count": 7,
      "outputs": []
    },
    {
      "cell_type": "code",
      "source": [
        "from google.colab import drive\n",
        "drive.mount('/content/drive')"
      ],
      "metadata": {
        "id": "vcjFF98iMybD"
      },
      "execution_count": null,
      "outputs": []
    },
    {
      "cell_type": "code",
      "source": [
        "image_path = \"/content/drive/MyDrive/\"\n",
        "\n",
        "image = cv2.imread(image_path)  # Read the image"
      ],
      "metadata": {
        "id": "6wP6UgFpM8-B"
      },
      "execution_count": null,
      "outputs": []
    },
    {
      "cell_type": "code",
      "source": [
        "# Check if image was successfully read\n",
        "if image is None:\n",
        "    print(f\"Error: Unable to read the image file: {image_path}\")\n",
        "else:\n",
        "    # Display original image\n",
        "    print(\"\\nOriginal Image:\")\n",
        "    cv2_imshow(image)\n",
        "\n",
        "    # Preprocess the image and detect text regions\n",
        "    preprocessed = preprocess_image(image)  # Preprocessing\n",
        "    boxes = detect_text_regions(preprocessed)  # Detect text regions\n",
        "\n",
        "    # Draw bounding boxes on original image\n",
        "    image_with_boxes = draw_bounding_boxes(image, boxes)\n",
        "\n",
        "    # Display the image with bounding boxes\n",
        "    print(\"\\nImage with Text Detection Regions:\")\n",
        "    cv2_imshow(image_with_boxes)\n",
        "\n",
        "    # Extract and print the detected text\n",
        "    detected_text = get_detected_text(boxes)\n",
        "    print(\"\\nDetected Text:\")\n",
        "    print(detected_text)"
      ],
      "metadata": {
        "id": "B9Oa9DcENKgz"
      },
      "execution_count": null,
      "outputs": []
    }
  ]
}